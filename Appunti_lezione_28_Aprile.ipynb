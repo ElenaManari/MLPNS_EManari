{
  "nbformat": 4,
  "nbformat_minor": 0,
  "metadata": {
    "colab": {
      "provenance": [],
      "authorship_tag": "ABX9TyPi/AUFBIOAXWO5jGrjOxDl",
      "include_colab_link": true
    },
    "kernelspec": {
      "name": "python3",
      "display_name": "Python 3"
    },
    "language_info": {
      "name": "python"
    }
  },
  "cells": [
    {
      "cell_type": "markdown",
      "metadata": {
        "id": "view-in-github",
        "colab_type": "text"
      },
      "source": [
        "<a href=\"https://colab.research.google.com/github/ElenaManari/MLPNS_EManari/blob/main/Appunti_lezione_28_Aprile.ipynb\" target=\"_parent\"><img src=\"https://colab.research.google.com/assets/colab-badge.svg\" alt=\"Open In Colab\"/></a>"
      ]
    },
    {
      "cell_type": "markdown",
      "source": [
        "# Faster NN \n",
        "Yolo = you only looks one : identificazione e classificazione fatte nello stesso NN . Bounding boxes e classifica le bounding \n",
        "boxes. Hyperparameters del modello. \n",
        "True positive, false positive .Yolo supera la performance di tutti gli altri modelli. La performance umana superiore a Yolo. Adesso superano la performance umana. Essa ci dà le labels. Si può avere performance superiore alla nostra in questo campo ? Devo creare le mie annotazioni: complete, accurate ecc ecc. Creo le bounding boxes, creo le labels e le metto nel NN. \n",
        "Anche nei software più efficienti è computazionalmente dispendioso. \n",
        "Progetto: NN su nuove annotazioni, costo del creare le annotazioni, così come il tempo . \n",
        "# Physics informed neural networks - PINN \n",
        "Classe diversa di NN: 2019 il più recente. \n",
        "Di cosa si tratta? Cambiamento di come si lavora in fisica in generale. Fino agi anni 50 la fisica era theory driven. No molti dati su nessun fenomeno, dati scarsi disomogenei ecc ecc. Si incomincia dalla teorià più falsicabilità. \n",
        "Dalgli anni 80 ad ora : regime data driven . Dati enormi, utilizziamo inferenze basae sui dati. \n",
        "Global warming --> se predizione corretta ok, ma meglio capire il meccanismo (teoria). Spazio intermedio: 50-80: non troppi dati. Nomachine learning perchè nn ho abbastanza dati + conoscenza teorica. Combino le due cose. Data driven + teoria. Come insegno al ML che al di là delle osservazioni c'è teoria a cui si deve atteere.\n",
        "Questo esempio sono le pinn. Differential equation, fluid dynamics, explosion, turbolence. Non linear differential equation . Tempo e spazio, X, T . Non linear partially differential equation. A forma chiusa ma difficile da risolvere perchè la sua soluzione dipende dalle derivate. Flux function . u(t) + df(u)/dz = 0. f(u) = a*u lineare ; \n",
        "Burgers equation : f(u) 0.5*f(u)^2\n",
        "Analiticamente molt difficile . \n",
        "Le PDE's molto difficili. \n",
        "C sono approssimazioni lineari ma non è possibie calcolare la soluzione esatta. Si può scrivere in situazioni particolari di boundary condition ma non in maniera generale. Soluzioni numeriche molto difficili. No analitica, no trattabile computazionalmente. \n",
        "Idea: comdino la soluzione analitica con il NN . \n",
        "Che non richiede gli step della numerical solution\n",
        "# Burger equation \n",
        "Raissi: 2019  --> nonlinear partial diferential equation. \n",
        "Matemativamente Burgers equation: secondaria, non linear PD. Tipicamente applicazioni: turbolence, predizione weather problem, traffico, achiustic transmission, weave formation. \n",
        "x = coordinate spaziali\n",
        "t = tempo\n",
        "u = velocità del fluido in uan posizione e nel tempo governata dalla burger \n",
        "nu = viscosity \n",
        "Caso di una dimensione spaziale [-1 1], t (0,1). \n",
        "Setto la velocità come il seno, boundary condition . tempo t v =0--> sistema chiuso. \n",
        "Creo il NN : risolve l'eq da solo. I dati non so quelli in mezzo. so i dati alla boundary c : input dei NN , diverse posizioni al tempo zero velocità. la soluzione completa avrà questo aspetto. u= colore, x = vert, t= or . Boundary condition --> valori a tempo zero. Predico il valore di u a tutte le posizioni interne. NN estrapola le info e non le interpola . Di solito no estrapolazione ma interpolazione. Dentro ho la burger equation . Se calcolo la velocità deve avere le caratteristiche dell'equazione. Loss function : mi dice se il NN sta andando bene o no. E' l'unica cosa che ho per dire alla NN ... metto la eq differenziale nella loss function. Loss function: calcola i dati alle boundary, e li calcola dentro se rispettano la burger equation. Dentro: soluzione della partial diff = residui dei dati alla boundary + residui partially eq. paper raissi. Step by step di come è implementato il codice. \n",
        "Il mio NN non è bravo a estrapolare. Non ho modo di predirre i valori all'interno dello spazio. \n",
        "Ma se mi allontano da zero ho predizione bassa. Rumore. Ora aggiungo la loss function: fatto ciò immediatamente imparo la struttura anche lontano dai punti delle boundary condition. Ha cmq molto rumore. Se ho loss function rumorosa abbasso il learning rate .. la funzione sta imparando senza rumore. Altro ciclo meglio. Ecco la predizione finale. Slicis nel tempo. corretta anche con gli sharp angle. "
      ],
      "metadata": {
        "id": "4QUG_s0PmnI2"
      }
    },
    {
      "cell_type": "markdown",
      "source": [],
      "metadata": {
        "id": "X4ITrUsBmQAH"
      }
    }
  ]
}