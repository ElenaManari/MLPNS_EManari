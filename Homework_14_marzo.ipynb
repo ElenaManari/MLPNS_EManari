{
  "nbformat": 4,
  "nbformat_minor": 0,
  "metadata": {
    "colab": {
      "provenance": [],
      "authorship_tag": "ABX9TyNXkHqOAGvcDRu4f5wJMygL",
      "include_colab_link": true
    },
    "kernelspec": {
      "name": "python3",
      "display_name": "Python 3"
    },
    "language_info": {
      "name": "python"
    }
  },
  "cells": [
    {
      "cell_type": "markdown",
      "metadata": {
        "id": "view-in-github",
        "colab_type": "text"
      },
      "source": [
        "<a href=\"https://colab.research.google.com/github/ElenaManari/MLPNS_EManari/blob/main/Homework_14_marzo.ipynb\" target=\"_parent\"><img src=\"https://colab.research.google.com/assets/colab-badge.svg\" alt=\"Open In Colab\"/></a>"
      ]
    },
    {
      "cell_type": "markdown",
      "source": [
        "## Exercise \n",
        "1) Create a numpy array containing numbers from 1 to 10 \\\\\n",
        "2) Extract only even numbers with boolean operations \\\\\n",
        "3) Reverse it \\\\\n",
        "4) Make all those number odd \\\\\n",
        "  \n",
        "(hint: you can use use range or np.arange to create the array)"
      ],
      "metadata": {
        "id": "t9FM5xX6KSp0"
      }
    },
    {
      "cell_type": "code",
      "source": [
        "import numpy as np\n",
        "N = np.arange(1,11)\n",
        "#for i in range(10): \n",
        "numeri = N.tolist()\n",
        "pari = [0]*10;\n",
        "\n",
        "for i in range(10):\n",
        "  if numeri[i] % 2 == 0: \n",
        "    pari[i] = numeri[i]\n",
        "\n",
        "parir = pari[::-1]\n",
        "\n",
        "for i in range(len(pari)):\n",
        "  if parir[i] != 0: \n",
        "    parir[i] = parir[i]+1;\n",
        "\n",
        "\n",
        "\n"
      ],
      "metadata": {
        "id": "pfg33vM9Kjhw"
      },
      "execution_count": 64,
      "outputs": []
    },
    {
      "cell_type": "code",
      "source": [
        "parir\n"
      ],
      "metadata": {
        "colab": {
          "base_uri": "https://localhost:8080/"
        },
        "id": "-Q2URH2uS-BI",
        "outputId": "b503b1cf-fc61-456f-f471-1a616b110b93"
      },
      "execution_count": 65,
      "outputs": [
        {
          "output_type": "execute_result",
          "data": {
            "text/plain": [
              "[11, 0, 9, 0, 7, 0, 5, 0, 3, 0]"
            ]
          },
          "metadata": {},
          "execution_count": 65
        }
      ]
    }
  ]
}