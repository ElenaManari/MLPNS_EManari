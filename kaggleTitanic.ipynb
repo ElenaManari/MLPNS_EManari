{
  "nbformat": 4,
  "nbformat_minor": 0,
  "metadata": {
    "colab": {
      "provenance": [],
      "authorship_tag": "ABX9TyMjRTeXjV1/97nX3b9BgzL5",
      "include_colab_link": true
    },
    "kernelspec": {
      "name": "python3",
      "display_name": "Python 3"
    },
    "language_info": {
      "name": "python"
    }
  },
  "cells": [
    {
      "cell_type": "markdown",
      "metadata": {
        "id": "view-in-github",
        "colab_type": "text"
      },
      "source": [
        "<a href=\"https://colab.research.google.com/github/ElenaManari/MLPNS_EManari/blob/main/kaggleTitanic.ipynb\" target=\"_parent\"><img src=\"https://colab.research.google.com/assets/colab-badge.svg\" alt=\"Open In Colab\"/></a>"
      ]
    },
    {
      "cell_type": "code",
      "execution_count": 7,
      "metadata": {
        "colab": {
          "base_uri": "https://localhost:8080/"
        },
        "id": "ielMXcI8JRYE",
        "outputId": "c6a66a68-a2de-4af9-a2e7-cc2f5919d9f9"
      },
      "outputs": [
        {
          "output_type": "stream",
          "name": "stdout",
          "text": [
            "Populating the interactive namespace from numpy and matplotlib\n"
          ]
        }
      ],
      "source": [
        "import pandas as pd\n",
        "import numpy as np\n",
        "import pylab as pl\n",
        "import os\n",
        "import json \n",
        "%pylab inline\n",
        "\n"
      ]
    },
    {
      "cell_type": "code",
      "source": [
        "from google.colab import drive\n",
        "\n",
        "drive.mount(\"/content/gdrive\")"
      ],
      "metadata": {
        "colab": {
          "base_uri": "https://localhost:8080/"
        },
        "id": "qajXtiZLMLLl",
        "outputId": "ed82b19f-3ea6-4800-c0f4-bae68deacaea"
      },
      "execution_count": 8,
      "outputs": [
        {
          "output_type": "stream",
          "name": "stdout",
          "text": [
            "Mounted at /content/gdrive\n"
          ]
        }
      ]
    },
    {
      "cell_type": "code",
      "source": [
        "pip install kaggle"
      ],
      "metadata": {
        "colab": {
          "base_uri": "https://localhost:8080/"
        },
        "id": "bjNGDa40MSdH",
        "outputId": "828d2852-78aa-413a-d4d2-2f71da2d501f"
      },
      "execution_count": 9,
      "outputs": [
        {
          "output_type": "stream",
          "name": "stdout",
          "text": [
            "Looking in indexes: https://pypi.org/simple, https://us-python.pkg.dev/colab-wheels/public/simple/\n",
            "Requirement already satisfied: kaggle in /usr/local/lib/python3.9/dist-packages (1.5.13)\n",
            "Requirement already satisfied: python-slugify in /usr/local/lib/python3.9/dist-packages (from kaggle) (8.0.1)\n",
            "Requirement already satisfied: python-dateutil in /usr/local/lib/python3.9/dist-packages (from kaggle) (2.8.2)\n",
            "Requirement already satisfied: six>=1.10 in /usr/local/lib/python3.9/dist-packages (from kaggle) (1.16.0)\n",
            "Requirement already satisfied: requests in /usr/local/lib/python3.9/dist-packages (from kaggle) (2.27.1)\n",
            "Requirement already satisfied: tqdm in /usr/local/lib/python3.9/dist-packages (from kaggle) (4.65.0)\n",
            "Requirement already satisfied: certifi in /usr/local/lib/python3.9/dist-packages (from kaggle) (2022.12.7)\n",
            "Requirement already satisfied: urllib3 in /usr/local/lib/python3.9/dist-packages (from kaggle) (1.26.15)\n",
            "Requirement already satisfied: text-unidecode>=1.3 in /usr/local/lib/python3.9/dist-packages (from python-slugify->kaggle) (1.3)\n",
            "Requirement already satisfied: idna<4,>=2.5 in /usr/local/lib/python3.9/dist-packages (from requests->kaggle) (3.4)\n",
            "Requirement already satisfied: charset-normalizer~=2.0.0 in /usr/local/lib/python3.9/dist-packages (from requests->kaggle) (2.0.12)\n"
          ]
        }
      ]
    },
    {
      "cell_type": "code",
      "source": [
        "!kaggle --version"
      ],
      "metadata": {
        "colab": {
          "base_uri": "https://localhost:8080/"
        },
        "id": "XVGC9TvjM1eS",
        "outputId": "05714fae-84a8-4f5e-93bc-ad75c486ee05"
      },
      "execution_count": 10,
      "outputs": [
        {
          "output_type": "stream",
          "name": "stdout",
          "text": [
            "Traceback (most recent call last):\n",
            "  File \"/usr/local/bin/kaggle\", line 5, in <module>\n",
            "    from kaggle.cli import main\n",
            "  File \"/usr/local/lib/python3.9/dist-packages/kaggle/__init__.py\", line 23, in <module>\n",
            "    api.authenticate()\n",
            "  File \"/usr/local/lib/python3.9/dist-packages/kaggle/api/kaggle_api_extended.py\", line 164, in authenticate\n",
            "    raise IOError('Could not find {}. Make sure it\\'s located in'\n",
            "OSError: Could not find kaggle.json. Make sure it's located in /root/.kaggle. Or use the environment method.\n"
          ]
        }
      ]
    },
    {
      "cell_type": "code",
      "source": [
        "cd gdrive/My\\ Drive"
      ],
      "metadata": {
        "colab": {
          "base_uri": "https://localhost:8080/"
        },
        "id": "e7wVZOboM6rW",
        "outputId": "83926336-add8-4a99-f1f4-d5b9d71ea94e"
      },
      "execution_count": 11,
      "outputs": [
        {
          "output_type": "stream",
          "name": "stdout",
          "text": [
            "/content/gdrive/My Drive\n"
          ]
        }
      ]
    },
    {
      "cell_type": "code",
      "source": [
        "!chmod 600 kaggle.json"
      ],
      "metadata": {
        "id": "sSII0dR7NuZ9"
      },
      "execution_count": 20,
      "outputs": []
    },
    {
      "cell_type": "code",
      "source": [
        "ls -l *kaggle*"
      ],
      "metadata": {
        "colab": {
          "base_uri": "https://localhost:8080/"
        },
        "id": "x04K_96VNEq9",
        "outputId": "461ac1e8-d388-4310-ceda-51992197f3a3"
      },
      "execution_count": 21,
      "outputs": [
        {
          "output_type": "stream",
          "name": "stdout",
          "text": [
            "-rw------- 1 root root 67 Apr 13 15:13 kaggle.json\n"
          ]
        }
      ]
    },
    {
      "cell_type": "code",
      "source": [
        "envs = json.load(open('.kaggle/kaggle.json','r'))"
      ],
      "metadata": {
        "id": "r6tTyaOzNf-a"
      },
      "execution_count": 24,
      "outputs": []
    },
    {
      "cell_type": "code",
      "source": [
        "envs.keys()"
      ],
      "metadata": {
        "colab": {
          "base_uri": "https://localhost:8080/"
        },
        "id": "Let8p_BtONVg",
        "outputId": "d3ea6a7c-ec0e-46f9-a7b8-278f127f9129"
      },
      "execution_count": 25,
      "outputs": [
        {
          "output_type": "execute_result",
          "data": {
            "text/plain": [
              "dict_keys(['username', 'key'])"
            ]
          },
          "metadata": {},
          "execution_count": 25
        }
      ]
    },
    {
      "cell_type": "code",
      "source": [
        "pwd\n"
      ],
      "metadata": {
        "colab": {
          "base_uri": "https://localhost:8080/",
          "height": 35
        },
        "id": "SAlqMnO4Pl38",
        "outputId": "31b802e3-6fb1-4763-dd2d-361ea6844c98"
      },
      "execution_count": 26,
      "outputs": [
        {
          "output_type": "execute_result",
          "data": {
            "text/plain": [
              "'/content/gdrive/MyDrive'"
            ],
            "application/vnd.google.colaboratory.intrinsic+json": {
              "type": "string"
            }
          },
          "metadata": {},
          "execution_count": 26
        }
      ]
    },
    {
      "cell_type": "code",
      "source": [
        "os.environ[\"KAGGLE_USERNAME\"] = envs[\"username\"]\n",
        "os.environ[\"KAGGLE_KEY\"] = envs[\"key\"]"
      ],
      "metadata": {
        "id": "DJPkLz33QHlP"
      },
      "execution_count": 28,
      "outputs": []
    },
    {
      "cell_type": "code",
      "source": [
        "!kaggle --version"
      ],
      "metadata": {
        "colab": {
          "base_uri": "https://localhost:8080/"
        },
        "id": "xFQ0FTDhQq9E",
        "outputId": "b4c9f9e4-d8e6-44ac-ad3a-8be28f05753f"
      },
      "execution_count": 29,
      "outputs": [
        {
          "output_type": "stream",
          "name": "stdout",
          "text": [
            "Kaggle API 1.5.13\n"
          ]
        }
      ]
    },
    {
      "cell_type": "code",
      "source": [
        "!kaggle datasets list -s titanic"
      ],
      "metadata": {
        "colab": {
          "base_uri": "https://localhost:8080/"
        },
        "id": "5D9vUbkHQ6ne",
        "outputId": "6e2c7467-127e-41a1-cf28-f062e5cf301b"
      },
      "execution_count": 31,
      "outputs": [
        {
          "output_type": "stream",
          "name": "stdout",
          "text": [
            "ref                                                 title                                           size  lastUpdated          downloadCount  voteCount  usabilityRating  \n",
            "--------------------------------------------------  ---------------------------------------------  -----  -------------------  -------------  ---------  ---------------  \n",
            "heptapod/titanic                                    Titanic                                         11KB  2017-05-16 08:14:22          53809        991  0.7058824        \n",
            "brendan45774/test-file                              Titanic dataset                                 11KB  2021-12-02 16:11:42          54578        537  1.0              \n",
            "azeembootwala/titanic                               Titanic                                         12KB  2017-06-05 12:14:37          16180        162  0.8235294        \n",
            "rahulsah06/titanic                                  Titanic                                         34KB  2019-09-16 14:43:23           5609         67  0.6764706        \n",
            "yasserh/titanic-dataset                             Titanic Dataset                                 22KB  2021-12-24 14:53:06           6759         39  1.0              \n",
            "prkukunoor/TitanicDataset                           Titanic                                        135KB  2017-01-03 22:01:13           5152         29  0.5882353        \n",
            "fossouodonald/titaniccsv                            Titanic csv                                      1KB  2016-11-07 09:44:58          12396         71  0.5882353        \n",
            "hesh97/titanicdataset-traincsv                      Titanic-Dataset (train.csv)                     22KB  2018-02-02 04:51:06          70211        445  0.4117647        \n",
            "jamesleslie/titanic-cleaned-data                    Titanic: cleaned data                           36KB  2018-11-21 11:50:18           6403         64  0.7647059        \n",
            "pavlofesenko/titanic-extended                       Titanic extended dataset (Kaggle + Wikipedia)  134KB  2019-03-06 09:53:24          11040        149  0.9411765        \n",
            "broaniki/titanic                                    titanic                                        717KB  2018-01-30 04:08:45           8407        130  0.1764706        \n",
            "kittisaks/testtitanic                               test titanic                                    22KB  2017-03-13 15:13:12           1847         33  0.64705884       \n",
            "abhinavralhan/titanic                               titanic                                         22KB  2017-07-30 11:07:55            721         16  0.8235294        \n",
            "cities/titanic123                                   Titanic Dataset Analysis                        22KB  2017-02-07 23:15:54           1967         34  0.5294118        \n",
            "brendan45774/gender-submisson                       Titanic: all ones csv file                      942B  2021-02-12 19:18:32           1090         40  0.9411765        \n",
            "ibrahimelsayed182/titanic-dataset                   Titanic dataset                                  6KB  2022-01-27 07:41:54            921         15  1.0              \n",
            "vinicius150987/titanic3                             The Complete Titanic Dataset                   277KB  2020-01-04 18:24:11           5401         45  0.64705884       \n",
            "harunshimanto/titanic-solution-for-beginners-guide  Titanic Solution for Beginner's Guide           34KB  2018-03-12 17:47:06           1608         25  0.7058824        \n",
            "pythonafroz/titanic                                 Titanic                                         22KB  2021-10-07 20:30:18             61         42  0.23529412       \n",
            "sureshbhusare/titanic-dataset-from-kaggle           Titanic DataSet from Kaggle                     33KB  2017-10-12 04:49:39           3077         29  0.4117647        \n"
          ]
        }
      ]
    },
    {
      "cell_type": "code",
      "source": [
        "cd MLPNS2023/"
      ],
      "metadata": {
        "colab": {
          "base_uri": "https://localhost:8080/"
        },
        "id": "KVXA-vOeRdq4",
        "outputId": "29b28fa3-b515-49c2-ccab-674dbd39ac68"
      },
      "execution_count": 32,
      "outputs": [
        {
          "output_type": "stream",
          "name": "stdout",
          "text": [
            "/content/gdrive/MyDrive/MLPNS2023\n"
          ]
        }
      ]
    },
    {
      "cell_type": "code",
      "source": [
        "!mkdir kaggleTitanic"
      ],
      "metadata": {
        "id": "hcqsGv2ZRqna"
      },
      "execution_count": 33,
      "outputs": []
    },
    {
      "cell_type": "code",
      "source": [
        "cd kaggleTitanic"
      ],
      "metadata": {
        "colab": {
          "base_uri": "https://localhost:8080/"
        },
        "id": "bChoUU6PRvfw",
        "outputId": "2f5a479c-3fa8-4d84-8f78-aac6050bafc0"
      },
      "execution_count": 34,
      "outputs": [
        {
          "output_type": "stream",
          "name": "stdout",
          "text": [
            "/content/gdrive/MyDrive/MLPNS2023/kaggleTitanic\n"
          ]
        }
      ]
    },
    {
      "cell_type": "code",
      "source": [
        "!kaggle competitions download -c titanic"
      ],
      "metadata": {
        "colab": {
          "base_uri": "https://localhost:8080/"
        },
        "id": "DnHxQTYSSJNs",
        "outputId": "fc7e7886-1811-4d14-bf7a-eb974d765778"
      },
      "execution_count": 35,
      "outputs": [
        {
          "output_type": "stream",
          "name": "stdout",
          "text": [
            "Downloading titanic.zip to /content/gdrive/MyDrive/MLPNS2023/kaggleTitanic\n",
            "\r  0% 0.00/34.1k [00:00<?, ?B/s]\n",
            "\r100% 34.1k/34.1k [00:00<00:00, 1.63MB/s]\n"
          ]
        }
      ]
    }
  ]
}